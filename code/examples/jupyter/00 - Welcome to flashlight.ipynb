{
 "cells": [
  {
   "cell_type": "markdown",
   "metadata": {},
   "source": [
    "This code example is intended to demonstrate some of the features of flashlight on the homepage."
   ]
  },
  {
   "cell_type": "code",
   "execution_count": null,
   "metadata": {
    "collapsed": false
   },
   "outputs": [
    {
     "name": "stdout",
     "output_type": "stream",
     "text": [
      "Populating the interactive namespace from numpy and matplotlib\n"
     ]
    }
   ],
   "source": [
    "%pylab inline\n",
    "\n",
    "import path_utils\n",
    "path_utils.add_relative_to_current_source_file_path_to_sys_path(\"../../lib\")\n",
    "\n",
    "figsize(9,6)"
   ]
  },
  {
   "cell_type": "code",
   "execution_count": null,
   "metadata": {
    "collapsed": false
   },
   "outputs": [
    {
     "name": "stdout",
     "output_type": "stream",
     "text": [
      "Initializing flashlight v0.0.1\n",
      "flashlight.quadrotor_2d: Constructing sympy symbols...\n",
      "flashlight.quadrotor_2d: Finished constructing sympy symbols (0.004 seconds).\n",
      "flashlight.quadrotor_2d: Loading sympy modules...\n",
      "flashlight.quadrotor_2d: Finished loading sympy modules (0.003 seconds).\n"
     ]
    },
    {
     "name": "stderr",
     "output_type": "stream",
     "text": [
      "/Users/mike/Code/GitHub/flashlight/code/lib/flashlight/transformations.py:1888: UserWarning: failed to import module _transformations\n",
      "  warnings.warn(\"failed to import module %s\" % name)\n"
     ]
    }
   ],
   "source": [
    "from pylab import *; import scipy.integrate;\n",
    "\n",
    "import flashlight.interpolate_utils as interpolate_utils\n",
    "import flashlight.quadrotor_2d      as quadrotor_2d\n",
    "\n",
    "# Define a simple position trajectory in 2D.\n",
    "num_samples = 200;\n",
    "t_begin     = 0;\n",
    "t_end       = 4*pi;\n",
    "dt          = (t_end - t_begin) / (num_samples - 1);\n",
    "\n",
    "t = linspace(t_begin, t_end, num_samples)\n",
    "p = c_[ sin(t) + 0.5*t, t ]\n",
    "\n",
    "# Compute the corresponding state space trajectory and control trajectories for a 2D quadrotor.\n",
    "q_qdot_qdotdot = quadrotor_2d.compute_state_space_trajectory_and_derivatives(p, dt)\n",
    "u              = quadrotor_2d.compute_control_trajectory(q_qdot_qdotdot)\n",
    "\n",
    "# Define a function that interpolates the control trajectory in between time samples.\n",
    "u_interp_func = interpolate_utils.interp1d_vector_wrt_scalar(t, u, kind=\"cubic\")\n",
    "\n",
    "# Define a simulation loop.\n",
    "def compute_x_dot(x_t, t):\n",
    "\n",
    "    # Get the current control vector.\n",
    "    u_t = u_interp_func(clip(t, t_begin, t_end))\n",
    "    \n",
    "    # Compute the state derivative from the current state and current control.\n",
    "    x_dot_t = quadrotor_2d.compute_x_dot(x_t, u_t).A1\n",
    "\n",
    "    return x_dot_t\n",
    "\n",
    "# Simulate.\n",
    "x_nominal, _, _, _ = quadrotor_2d.pack_state_space_trajectory_and_derivatives(q_qdot_qdotdot)\n",
    "x_0                = x_nominal[0]\n",
    "x_sim              = scipy.integrate.odeint(compute_x_dot, x_0, t)\n",
    "\n",
    "# Plot the results.\n",
    "quadrotor_2d.draw(t, x_sim, t_nominal=t, x_nominal=x_nominal, inline=True)"
   ]
  }
 ],
 "metadata": {
  "kernelspec": {
   "display_name": "Python 2",
   "language": "python",
   "name": "python2"
  },
  "language_info": {
   "codemirror_mode": {
    "name": "ipython",
    "version": 2
   },
   "file_extension": ".py",
   "mimetype": "text/x-python",
   "name": "python",
   "nbconvert_exporter": "python",
   "pygments_lexer": "ipython2",
   "version": "2.7.6"
  }
 },
 "nbformat": 4,
 "nbformat_minor": 0
}
